{
 "cells": [
  {
   "cell_type": "code",
   "execution_count": 1,
   "id": "d45b3630",
   "metadata": {},
   "outputs": [
    {
     "name": "stdout",
     "output_type": "stream",
     "text": [
      "zsh:1: no matches found: ribs[all]\n",
      "Note: you may need to restart the kernel to use updated packages.\n"
     ]
    }
   ],
   "source": [
    "%pip install ribs[all] gym~=0.17.0 p tqdm"
   ]
  },
  {
   "cell_type": "code",
   "execution_count": 2,
   "id": "c9edd52a",
   "metadata": {},
   "outputs": [],
   "source": [
    "import sys\n",
    "sys.path.append('/opt/miniconda3/lib/python3.10/site-packages')\n",
    "\n",
    "import gym\n",
    "import time\n",
    "import numpy as np\n",
    "import matplotlib.pyplot as plt\n",
    "from tqdm.notebook import tqdm"
   ]
  },
  {
   "cell_type": "code",
   "execution_count": 3,
   "id": "71aad481",
   "metadata": {},
   "outputs": [],
   "source": [
    "env = gym.make(\"LunarLander-v2\")\n",
    "seed = 1339\n",
    "action_dim = env.action_space.n\n",
    "obs_dim = env.observation_space.shape[0]"
   ]
  },
  {
   "cell_type": "code",
   "execution_count": 4,
   "id": "a6335b3d",
   "metadata": {},
   "outputs": [],
   "source": [
    "def simulate(env, model, seed=None):\n",
    "    \"\"\"Simulates the lunar lander model.\n",
    "\n",
    "    Args:\n",
    "        env (gym.Env): A copy of the lunar lander environment.\n",
    "        model (np.ndarray): The array of weights for the linear policy.\n",
    "        seed (int): The seed for the environment.\n",
    "    Returns:\n",
    "        total_reward (float): The reward accrued by the lander throughout its\n",
    "            trajectory.\n",
    "        impact_x_pos (float): The x position of the lander when it touches the\n",
    "            ground for the first time.\n",
    "        impact_y_vel (float): The y velocity of the lander when it touches the\n",
    "            ground for the first time.\n",
    "    \"\"\"\n",
    "    if seed is not None:\n",
    "        env.seed(seed)\n",
    "\n",
    "    action_dim = env.action_space.n\n",
    "    obs_dim = env.observation_space.shape[0]\n",
    "    model = model.reshape((action_dim, obs_dim))\n",
    "\n",
    "    total_reward = 0.0\n",
    "    impact_x_pos = None\n",
    "    impact_y_vel = None\n",
    "    all_y_vels = []\n",
    "    obs = env.reset()\n",
    "    done = False\n",
    "\n",
    "    while not done:\n",
    "        action = np.argmax(model @ obs)  # Linear policy.\n",
    "        obs, reward, done, info = env.step(action)\n",
    "        total_reward += reward\n",
    "\n",
    "        # Refer to the definition of state here:\n",
    "        # https://github.com/openai/gym/blob/master/gym/envs/box2d/lunar_lander.py#L306\n",
    "        x_pos = obs[0]\n",
    "        y_vel = obs[3]\n",
    "        leg0_touch = bool(obs[6])\n",
    "        leg1_touch = bool(obs[7])\n",
    "        all_y_vels.append(y_vel)\n",
    "\n",
    "        # Check if the lunar lander is impacting for the first time.\n",
    "        if impact_x_pos is None and (leg0_touch or leg1_touch):\n",
    "            impact_x_pos = x_pos\n",
    "            impact_y_vel = y_vel\n",
    "\n",
    "    # If the lunar lander did not land, set the x-pos to the one from the final\n",
    "    # timestep, and set the y-vel to the max y-vel (we use min since the lander\n",
    "    # goes down).\n",
    "    if impact_x_pos is None:\n",
    "        impact_x_pos = x_pos\n",
    "        impact_y_vel = min(all_y_vels)\n",
    "\n",
    "    return total_reward, impact_x_pos, impact_y_vel"
   ]
  },
  {
   "cell_type": "code",
   "execution_count": 5,
   "id": "61eb44c7",
   "metadata": {},
   "outputs": [],
   "source": [
    "from ribs.archives import GridArchive\n",
    "\n",
    "archive = GridArchive(\n",
    "    [50, 50],  # 50 bins in each dimension.\n",
    "    [(-1.0, 1.0), (-3.0, 0.0)],  # (-1, 1) for x-pos and (-3, 0) for y-vel.\n",
    ")"
   ]
  },
  {
   "cell_type": "code",
   "execution_count": 6,
   "id": "9640e50f",
   "metadata": {},
   "outputs": [],
   "source": [
    "from ribs.emitters import ImprovementEmitter\n",
    "\n",
    "initial_model = np.zeros((action_dim, obs_dim))\n",
    "emitters = [\n",
    "    ImprovementEmitter(\n",
    "        archive,\n",
    "        initial_model.flatten(),\n",
    "        1.0,  # Initial step size.\n",
    "        batch_size=30,\n",
    "    ) for _ in range(5)  # Create 5 separate emitters.\n",
    "]"
   ]
  },
  {
   "cell_type": "code",
   "execution_count": 7,
   "id": "e7f7c880",
   "metadata": {},
   "outputs": [],
   "source": [
    "from ribs.optimizers import Optimizer\n",
    "\n",
    "optimizer = Optimizer(archive, emitters)"
   ]
  },
  {
   "cell_type": "code",
   "execution_count": 8,
   "id": "4a5781a0",
   "metadata": {},
   "outputs": [
    {
     "data": {
      "application/vnd.jupyter.widget-view+json": {
       "model_id": "2b787fe91b254af08000107618432715",
       "version_major": 2,
       "version_minor": 0
      },
      "text/plain": [
       "  0%|          | 0/500 [00:00<?, ?it/s]"
      ]
     },
     "metadata": {},
     "output_type": "display_data"
    },
    {
     "name": "stdout",
     "output_type": "stream",
     "text": [
      "> 25 itrs completed after 182.13 s\n",
      "  - Archive Size: 1181\n",
      "  - Max Score: 269.13466473853964\n",
      "> 50 itrs completed after 529.76 s\n",
      "  - Archive Size: 1680\n",
      "  - Max Score: 282.081700641182\n",
      "> 75 itrs completed after 735.63 s\n",
      "  - Archive Size: 2132\n",
      "  - Max Score: 282.081700641182\n",
      "> 100 itrs completed after 858.95 s\n",
      "  - Archive Size: 2306\n",
      "  - Max Score: 282.081700641182\n",
      "> 125 itrs completed after 974.74 s\n",
      "  - Archive Size: 2388\n",
      "  - Max Score: 282.081700641182\n",
      "> 150 itrs completed after 1125.19 s\n",
      "  - Archive Size: 2461\n",
      "  - Max Score: 282.081700641182\n",
      "> 175 itrs completed after 1304.50 s\n",
      "  - Archive Size: 2478\n",
      "  - Max Score: 282.081700641182\n",
      "> 200 itrs completed after 1488.80 s\n",
      "  - Archive Size: 2483\n",
      "  - Max Score: 282.081700641182\n",
      "> 225 itrs completed after 1932.84 s\n",
      "  - Archive Size: 2487\n",
      "  - Max Score: 282.081700641182\n",
      "> 250 itrs completed after 2465.70 s\n",
      "  - Archive Size: 2491\n",
      "  - Max Score: 282.081700641182\n",
      "> 275 itrs completed after 2729.67 s\n",
      "  - Archive Size: 2491\n",
      "  - Max Score: 284.61110931044465\n",
      "> 300 itrs completed after 2938.03 s\n",
      "  - Archive Size: 2496\n",
      "  - Max Score: 284.61110931044465\n",
      "> 325 itrs completed after 3241.95 s\n",
      "  - Archive Size: 2496\n",
      "  - Max Score: 284.61110931044465\n",
      "> 350 itrs completed after 3362.35 s\n",
      "  - Archive Size: 2496\n",
      "  - Max Score: 284.61110931044465\n",
      "> 375 itrs completed after 3498.20 s\n",
      "  - Archive Size: 2498\n",
      "  - Max Score: 284.61110931044465\n",
      "> 400 itrs completed after 3699.11 s\n",
      "  - Archive Size: 2498\n",
      "  - Max Score: 284.61110931044465\n",
      "> 425 itrs completed after 3981.71 s\n",
      "  - Archive Size: 2498\n",
      "  - Max Score: 284.61110931044465\n",
      "> 450 itrs completed after 4205.47 s\n",
      "  - Archive Size: 2499\n",
      "  - Max Score: 284.61110931044465\n",
      "> 475 itrs completed after 4367.11 s\n",
      "  - Archive Size: 2499\n",
      "  - Max Score: 284.61110931044465\n",
      "> 500 itrs completed after 4530.92 s\n",
      "  - Archive Size: 2499\n",
      "  - Max Score: 284.61110931044465\n"
     ]
    }
   ],
   "source": [
    "start_time = time.time()\n",
    "total_itrs = 500\n",
    "\n",
    "for itr in tqdm(range(1, total_itrs + 1)):\n",
    "    # Request models from the optimizer.\n",
    "    sols = optimizer.ask()\n",
    "\n",
    "    # Evaluate the models and record the objectives and BCs.\n",
    "    objs, bcs = [], []\n",
    "    for model in sols:\n",
    "        obj, impact_x_pos, impact_y_vel = simulate(env, model, seed)\n",
    "        objs.append(obj)\n",
    "        bcs.append([impact_x_pos, impact_y_vel])\n",
    "\n",
    "    # Send the results back to the optimizer.\n",
    "    optimizer.tell(objs, bcs)\n",
    "\n",
    "    # Logging.\n",
    "    if itr % 25 == 0:\n",
    "        elapsed_time = time.time() - start_time\n",
    "        print(f\"> {itr} itrs completed after {elapsed_time:.2f} s\")\n",
    "        print(f\"  - Archive Size: {len(archive)}\")\n",
    "        print(f\"  - Max Score: {archive.stats.obj_max}\")"
   ]
  },
  {
   "cell_type": "code",
   "execution_count": 9,
   "id": "a29af8a7",
   "metadata": {},
   "outputs": [
    {
     "data": {
      "text/plain": [
       "Text(0.5, 0, 'Impact x-position')"
      ]
     },
     "execution_count": 9,
     "metadata": {},
     "output_type": "execute_result"
    },
    {
     "data": {
      "image/png": "[encoded data removed]",
      "text/plain": [
       "<Figure size 800x600 with 2 Axes>"
      ]
     },
     "metadata": {},
     "output_type": "display_data"
    }
   ],
   "source": [
    "from ribs.visualize import grid_archive_heatmap\n",
    "\n",
    "plt.figure(figsize=(8, 6))\n",
    "grid_archive_heatmap(archive, vmin=-300, vmax=300)\n",
    "plt.gca().invert_yaxis()  # Makes more sense if larger velocities are on top.\n",
    "plt.ylabel(\"Impact y-velocity\")\n",
    "plt.xlabel(\"Impact x-position\")"
   ]
  },
  {
   "cell_type": "code",
   "execution_count": 10,
   "id": "5a18b021",
   "metadata": {},
   "outputs": [
    {
     "name": "stdout",
     "output_type": "stream",
     "text": [
      "Not in Google Colab. Skipping display setup.\n"
     ]
    }
   ],
   "source": [
    "try:\n",
    "    # In Google Colab, it is necessary to set up a virtual display so that\n",
    "    # OpenAI Gym can render properly.\n",
    "\n",
    "    import google.colab\n",
    "    print(\"Google Colab detected. Setting up virtual display.\")\n",
    "\n",
    "    !apt-get install -y xvfb python-opengl\n",
    "    %pip install pyvirtualdisplay\n",
    "\n",
    "    from pyvirtualdisplay import Display\n",
    "\n",
    "    display = Display(visible=0, size=(400, 300))\n",
    "    display.start()\n",
    "except ImportError:\n",
    "    print(\"Not in Google Colab. Skipping display setup.\")"
   ]
  },
  {
   "cell_type": "code",
   "execution_count": 18,
   "id": "acd382c2",
   "metadata": {},
   "outputs": [],
   "source": [
    "import base64\n",
    "import glob\n",
    "import io\n",
    "\n",
    "from IPython.display import display, HTML\n",
    "\n",
    "sys.path.append(\"/opt/anaconda3/lib/python3.9/site-packages\")\n",
    "\n",
    "\n",
    "def display_video(model):\n",
    "    \"\"\"Displays a video of the model in the environment.\"\"\"\n",
    "\n",
    "    # Monitor records a video of the environment.\n",
    "    video_env = gym.wrappers.Monitor(\n",
    "        gym.make(\"LunarLander-v2\"),\n",
    "        \"videos\",  # Video directory.\n",
    "        force=True,  # Overwrite existing videos.\n",
    "        video_callable=lambda idx: True,  # Make all episodes be recorded.\n",
    "    )\n",
    "    simulate(video_env, model, seed)\n",
    "    video_env.close()  # Save video.\n",
    "\n",
    "    # Display the video with HTML. Though we use glob, there is only 1 video.\n",
    "    for video_file in glob.glob(\"videos/*.mp4\"):\n",
    "        video = io.open(video_file, 'rb').read()\n",
    "        encoded = base64.b64encode(video).decode(\"ascii\")\n",
    "        display(\n",
    "            HTML(f'''\n",
    "            <video width=\"360\" height=\"auto\" controls>\n",
    "                <source src=\"data:video/mp4;base64,{encoded}\" type=\"video/mp4\" />\n",
    "            </video>'''))"
   ]
  },
  {
   "cell_type": "code",
   "execution_count": null,
   "id": "5f1368de",
   "metadata": {},
   "outputs": [],
   "source": []
  }
 ],
 "metadata": {
  "kernelspec": {
   "display_name": "Python 3 (ipykernel)",
   "language": "python",
   "name": "python3"
  },
  "language_info": {
   "codemirror_mode": {
    "name": "ipython",
    "version": 3
   },
   "file_extension": ".py",
   "mimetype": "text/x-python",
   "name": "python",
   "nbconvert_exporter": "python",
   "pygments_lexer": "ipython3",
   "version": "3.9.13"
  }
 },
 "nbformat": 4,
 "nbformat_minor": 5
}
